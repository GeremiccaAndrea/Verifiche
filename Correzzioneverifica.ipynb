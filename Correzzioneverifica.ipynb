{
  "nbformat": 4,
  "nbformat_minor": 0,
  "metadata": {
    "colab": {
      "provenance": [],
      "authorship_tag": "ABX9TyOMNjPMPyitpdIHsQVbGlIi",
      "include_colab_link": true
    },
    "kernelspec": {
      "name": "python3",
      "display_name": "Python 3"
    },
    "language_info": {
      "name": "python"
    }
  },
  "cells": [
    {
      "cell_type": "markdown",
      "metadata": {
        "id": "view-in-github",
        "colab_type": "text"
      },
      "source": [
        "<a href=\"https://colab.research.google.com/github/GeremiccaAndrea/Verifiche/blob/main/Correzzioneverifica.ipynb\" target=\"_parent\"><img src=\"https://colab.research.google.com/assets/colab-badge.svg\" alt=\"Open In Colab\"/></a>"
      ]
    },
    {
      "cell_type": "markdown",
      "source": [
        "Verifica dispari"
      ],
      "metadata": {
        "id": "T0PDVESfvh24"
      }
    },
    {
      "cell_type": "code",
      "source": [
        "multipli = [i for i in range(5,255,5) ]\n",
        "print(multipli)"
      ],
      "metadata": {
        "colab": {
          "base_uri": "https://localhost:8080/"
        },
        "id": "NwSj3Z06vj9m",
        "outputId": "bc8c502e-3860-4c71-e76a-a37edc85687f"
      },
      "execution_count": null,
      "outputs": [
        {
          "output_type": "stream",
          "name": "stdout",
          "text": [
            "[5, 10, 15, 20, 25, 30, 35, 40, 45, 50, 55, 60, 65, 70, 75, 80, 85, 90, 95, 100, 105, 110, 115, 120, 125, 130, 135, 140, 145, 150, 155, 160, 165, 170, 175, 180, 185, 190, 195, 200, 205, 210, 215, 220, 225, 230, 235, 240, 245, 250]\n"
          ]
        }
      ]
    },
    {
      "cell_type": "code",
      "source": [
        "multipli = [i * 5 for i in range(1,51) ]\n",
        "print(multipli)"
      ],
      "metadata": {
        "colab": {
          "base_uri": "https://localhost:8080/"
        },
        "id": "o2eXAmJZxW7n",
        "outputId": "b4210eb2-861d-413e-9bcf-d316a5d0da84"
      },
      "execution_count": null,
      "outputs": [
        {
          "output_type": "stream",
          "name": "stdout",
          "text": [
            "[5, 10, 15, 20, 25, 30, 35, 40, 45, 50, 55, 60, 65, 70, 75, 80, 85, 90, 95, 100, 105, 110, 115, 120, 125, 130, 135, 140, 145, 150, 155, 160, 165, 170, 175, 180, 185, 190, 195, 200, 205, 210, 215, 220, 225, 230, 235, 240, 245, 250]\n"
          ]
        }
      ]
    },
    {
      "cell_type": "code",
      "source": [
        "multipli = [i for i in range(5,255) if i % 5 == 0 ]\n",
        "print(multipli)"
      ],
      "metadata": {
        "colab": {
          "base_uri": "https://localhost:8080/"
        },
        "id": "AGYMIuBRyCpv",
        "outputId": "109c2259-662a-4763-ee48-a53f33d49711"
      },
      "execution_count": null,
      "outputs": [
        {
          "output_type": "stream",
          "name": "stdout",
          "text": [
            "[5, 10, 15, 20, 25, 30, 35, 40, 45, 50, 55, 60, 65, 70, 75, 80, 85, 90, 95, 100, 105, 110, 115, 120, 125, 130, 135, 140, 145, 150, 155, 160, 165, 170, 175, 180, 185, 190, 195, 200, 205, 210, 215, 220, 225, 230, 235, 240, 245, 250]\n"
          ]
        }
      ]
    },
    {
      "cell_type": "markdown",
      "source": [
        "\n",
        "Caricare in una lista solo i multipli di 10"
      ],
      "metadata": {
        "id": "2FfxVmqKy1Sw"
      }
    },
    {
      "cell_type": "code",
      "source": [
        "multipli10 = [mul for mul in multipli if mul % 10 == 0]\n",
        "print(multipli)"
      ],
      "metadata": {
        "id": "xG3vWp3gyxDI",
        "colab": {
          "base_uri": "https://localhost:8080/"
        },
        "outputId": "960e5084-8c74-4474-c200-a3d14c105b62"
      },
      "execution_count": null,
      "outputs": [
        {
          "output_type": "stream",
          "name": "stdout",
          "text": [
            "[5, 10, 15, 20, 25, 30, 35, 40, 45, 50, 55, 60, 65, 70, 75, 80, 85, 90, 95, 100, 105, 110, 115, 120, 125, 130, 135, 140, 145, 150, 155, 160, 165, 170, 175, 180, 185, 190, 195, 200, 205, 210, 215, 220, 225, 230, 235, 240, 245, 250]\n"
          ]
        }
      ]
    },
    {
      "cell_type": "markdown",
      "source": [
        "Eliminare dalla seconda lista tutti i valori compresi tra 30 e 60 "
      ],
      "metadata": {
        "id": "r-kNBI_lAhli"
      }
    },
    {
      "cell_type": "code",
      "source": [
        "count = 0 \n",
        "for val in multipli10: \n",
        "  if val >= 30 and val <= 160:\n",
        "    multipli10.remove(val)\n",
        "    count +=1 \n",
        "print(multipli10)"
      ],
      "metadata": {
        "colab": {
          "base_uri": "https://localhost:8080/"
        },
        "id": "pALiOVO0A3EK",
        "outputId": "af7048f0-941e-4d63-efd6-eee15d06c089"
      },
      "execution_count": null,
      "outputs": [
        {
          "output_type": "stream",
          "name": "stdout",
          "text": [
            "[10, 20, 40, 60, 80, 100, 120, 140, 160, 170, 180, 190, 200, 210, 220, 230, 240, 250]\n"
          ]
        }
      ]
    },
    {
      "cell_type": "markdown",
      "source": [
        "Caricare in un'altra lista i 5 elementi centrali "
      ],
      "metadata": {
        "id": "CvGO4zRcDATy"
      }
    },
    {
      "cell_type": "code",
      "source": [
        "multiplicentrali = []\n",
        "print(len(multipli10))\n",
        "multiplicentrali= (multipli10[len(multipli10)//2-2: len(multipli10)//2+3])\n",
        "print(multiplicentrali)"
      ],
      "metadata": {
        "colab": {
          "base_uri": "https://localhost:8080/"
        },
        "id": "bQ26nHakDIFB",
        "outputId": "ca83ffe2-f53d-444c-e692-24d7e746e4a2"
      },
      "execution_count": null,
      "outputs": [
        {
          "output_type": "stream",
          "name": "stdout",
          "text": [
            "18\n",
            "[140, 160, 170, 180, 190]\n"
          ]
        }
      ]
    },
    {
      "cell_type": "markdown",
      "source": [
        "Moltiplicare per 10 tutti i numeri della lista precedente "
      ],
      "metadata": {
        "id": "y6bi6Pr6FNUx"
      }
    },
    {
      "cell_type": "code",
      "source": [
        "prodotti = [numero *10 for numero in multiplicentrali]\n",
        "print(prodotti)"
      ],
      "metadata": {
        "colab": {
          "base_uri": "https://localhost:8080/"
        },
        "id": "fOGCv7mLFTZB",
        "outputId": "23f02dd7-af45-479f-ac24-aaa507832e4e"
      },
      "execution_count": null,
      "outputs": [
        {
          "output_type": "stream",
          "name": "stdout",
          "text": [
            "[1400, 1600, 1700, 1800, 1900]\n"
          ]
        }
      ]
    },
    {
      "cell_type": "markdown",
      "source": [
        "Mettere in un unica lista tutti i valori presenti nelle liste precedenti "
      ],
      "metadata": {
        "id": "kpp0YXSdFooY"
      }
    },
    {
      "cell_type": "code",
      "source": [
        "print(prodotti, multiplicentrali, multipli10)"
      ],
      "metadata": {
        "colab": {
          "base_uri": "https://localhost:8080/"
        },
        "id": "JJRbG1S8Ft7R",
        "outputId": "329acc33-b76f-4dbd-b68d-7be0b4a1d534"
      },
      "execution_count": null,
      "outputs": [
        {
          "output_type": "stream",
          "name": "stdout",
          "text": [
            "[1400, 1600, 1700, 1800, 1900] [140, 160, 170, 180, 190] [10, 20, 40, 60, 80, 100, 120, 140, 160, 170, 180, 190, 200, 210, 220, 230, 240, 250]\n"
          ]
        }
      ]
    },
    {
      "cell_type": "markdown",
      "source": [
        "compito terminare correzzione verifiche per mercoledi"
      ],
      "metadata": {
        "id": "ymvmG_ZhPlly"
      }
    },
    {
      "cell_type": "code",
      "source": [
        "import random \n",
        "lstrandom = [random.randint(0,31) for num in range(100)]\n",
        "print(lstrandom)"
      ],
      "metadata": {
        "colab": {
          "base_uri": "https://localhost:8080/"
        },
        "id": "-N8ClcVWT5Jz",
        "outputId": "f09a85fb-c071-4928-a272-3dae79398cc1"
      },
      "execution_count": null,
      "outputs": [
        {
          "output_type": "stream",
          "name": "stdout",
          "text": [
            "[29, 27, 31, 7, 21, 28, 8, 16, 3, 8, 23, 14, 21, 16, 11, 20, 19, 20, 1, 20, 24, 7, 0, 22, 13, 9, 4, 8, 18, 31, 6, 31, 2, 31, 19, 31, 30, 2, 18, 27, 16, 29, 6, 14, 23, 16, 10, 11, 10, 11, 17, 23, 25, 14, 27, 23, 12, 6, 3, 24, 23, 14, 29, 17, 27, 3, 13, 5, 11, 31, 29, 11, 14, 22, 26, 25, 13, 30, 16, 25, 0, 4, 2, 17, 27, 6, 0, 0, 9, 9, 27, 18, 21, 1, 15, 31, 21, 1, 18, 25]\n"
          ]
        }
      ]
    },
    {
      "cell_type": "code",
      "source": [
        "lstdispari = []\n",
        "for num in range(100):\n",
        "  if lstrandom[num] % 2 == 1:\n",
        "    lstdispari.append(lstrandom[num])\n",
        "print(lstdispari)"
      ],
      "metadata": {
        "colab": {
          "base_uri": "https://localhost:8080/"
        },
        "id": "VFGsG0nqT9OC",
        "outputId": "c2d4a0b5-92de-4206-fc2c-1600d0e30f54"
      },
      "execution_count": null,
      "outputs": [
        {
          "output_type": "stream",
          "name": "stdout",
          "text": [
            "[29, 27, 31, 7, 21, 3, 23, 21, 11, 19, 1, 7, 13, 9, 31, 31, 31, 19, 31, 27, 29, 23, 11, 11, 17, 23, 25, 27, 23, 3, 23, 29, 17, 27, 3, 13, 5, 11, 31, 29, 11, 25, 13, 25, 17, 27, 9, 9, 27, 21, 1, 15, 31, 21, 1, 25]\n"
          ]
        }
      ]
    },
    {
      "cell_type": "code",
      "source": [
        "indice = 0\n",
        "while indice in lstdispari:\n",
        "    if lstdispari[indice] % 3 == 0:\n",
        "      del lstdispari[indice]\n",
        "    else:\n",
        "     indice += 1 \n",
        "print(lstdispari)"
      ],
      "metadata": {
        "id": "fq3b_J2yPyk7"
      },
      "execution_count": null,
      "outputs": []
    },
    {
      "cell_type": "code",
      "source": [
        "province=[\"Bergamo\",\"Brescia\",\"Como\",\"Cremona\",\"Lecco\",\"Lodi\",\"Mantova\",\"Milano\",\"Monza e della Brianza\",\"Pavia\",\"Sondrio\",\"Varese\",]"
      ],
      "metadata": {
        "id": "M2pplezaVfAL"
      },
      "execution_count": null,
      "outputs": []
    },
    {
      "cell_type": "code",
      "source": [
        "indice = 0 \n",
        "posizione = province.index(\"Monza e della Brianza\")\n",
        "for indice in range(12):\n",
        "  if indice == \"Monza e della Brianza\":\n",
        "    province[indice] == \"Monza\", \"Brianza\"\n",
        "    indice += 1 \n",
        "print(province)\n"
      ],
      "metadata": {
        "colab": {
          "base_uri": "https://localhost:8080/"
        },
        "id": "9OhnbE0FVrQa",
        "outputId": "59519038-73c6-45ff-bf53-3502e8d809f9"
      },
      "execution_count": null,
      "outputs": [
        {
          "output_type": "stream",
          "name": "stdout",
          "text": [
            "['Bergamo', 'Brescia', 'Como', 'Cremona', 'Lecco', 'Lodi', 'Mantova', 'Milano', 'Monza e della Brianza', 'Pavia', 'Sondrio', 'Varese']\n"
          ]
        }
      ]
    }
  ]
}