{
  "nbformat": 4,
  "nbformat_minor": 0,
  "metadata": {
    "colab": {
      "provenance": [],
      "include_colab_link": true
    },
    "kernelspec": {
      "name": "python3",
      "display_name": "Python 3"
    },
    "language_info": {
      "name": "python"
    }
  },
  "cells": [
    {
      "cell_type": "markdown",
      "metadata": {
        "id": "view-in-github",
        "colab_type": "text"
      },
      "source": [
        "<a href=\"https://colab.research.google.com/github/GeremiccaAndrea/Verifiche/blob/main/Verifica8_Geremicca_Andrea.ipynb\" target=\"_parent\"><img src=\"https://colab.research.google.com/assets/colab-badge.svg\" alt=\"Open In Colab\"/></a>"
      ]
    },
    {
      "cell_type": "markdown",
      "source": [
        "verifica 8"
      ],
      "metadata": {
        "id": "TkYi3G7VZ8Z0"
      }
    },
    {
      "cell_type": "markdown",
      "source": [
        "Esercizio 1 "
      ],
      "metadata": {
        "id": "LDhk06LieI3c"
      }
    },
    {
      "cell_type": "markdown",
      "source": [
        "caricare i cognomi degli studenti della 3e "
      ],
      "metadata": {
        "id": "dO2B53IraCVD"
      }
    },
    {
      "cell_type": "code",
      "source": [
        "Cognomi = [\"Avasiloae\" , \"Bernasconi\" , \"Cottone\", \"Darienzo\" , \"Diapce\", \"Finessi\",\"Fontana\" , \"Geremicca\", \"El allami\", \"Leone\", \"Lotorto\", \"Papes\", \"Neri\", \"Muammad\", \"Poliseno\", ]"
      ],
      "metadata": {
        "id": "M5fIslQdaO8b"
      },
      "execution_count": null,
      "outputs": []
    },
    {
      "cell_type": "markdown",
      "source": [
        "1. visualizzare lo studente che si trova al numero 10 dell'elenco "
      ],
      "metadata": {
        "id": "p8zssVjsa4yE"
      }
    },
    {
      "cell_type": "code",
      "source": [
        "print(Cognomi[9])"
      ],
      "metadata": {
        "colab": {
          "base_uri": "https://localhost:8080/"
        },
        "id": "s-e6p0IdbAHD",
        "outputId": "85a6db35-b374-4a85-88db-81d8fbc7906b"
      },
      "execution_count": null,
      "outputs": [
        {
          "output_type": "stream",
          "name": "stdout",
          "text": [
            "Leone\n"
          ]
        }
      ]
    },
    {
      "cell_type": "markdown",
      "source": [
        "2. visualizzare i primi 10 studenti "
      ],
      "metadata": {
        "id": "Psce4zikbX1V"
      }
    },
    {
      "cell_type": "code",
      "source": [
        "print(Cognomi[:10])"
      ],
      "metadata": {
        "colab": {
          "base_uri": "https://localhost:8080/"
        },
        "id": "AVF3E-c5bcS_",
        "outputId": "9e8bc28c-9779-4805-8def-22c7843362e4"
      },
      "execution_count": null,
      "outputs": [
        {
          "output_type": "stream",
          "name": "stdout",
          "text": [
            "['Avasiloae', 'Bernasconi', 'Cottone', 'Darienzo', 'Diapce', 'Finessi', 'Fontana', 'Geremicca', 'El allami', 'Leone']\n"
          ]
        }
      ]
    },
    {
      "cell_type": "markdown",
      "source": [
        "3.visualizzare i 5 studenti centrali"
      ],
      "metadata": {
        "id": "1FmGyJzEbgbq"
      }
    },
    {
      "cell_type": "code",
      "source": [
        "print(Cognomi[5:10])"
      ],
      "metadata": {
        "colab": {
          "base_uri": "https://localhost:8080/"
        },
        "id": "l8SgLggPbky6",
        "outputId": "5e71b72e-49c4-486d-8208-f6d0baf489b7"
      },
      "execution_count": null,
      "outputs": [
        {
          "output_type": "stream",
          "name": "stdout",
          "text": [
            "['Finessi', 'Fontana', 'Geremicca', 'El allami', 'Leone']\n"
          ]
        }
      ]
    },
    {
      "cell_type": "markdown",
      "source": [
        "4. il docente dinformatica deve interrogare uno studente: visualizzare in modocasuale, il cognome di uno studenti."
      ],
      "metadata": {
        "id": "ZW0gd2Dgcd1E"
      }
    },
    {
      "cell_type": "code",
      "source": [
        "import random \n",
        "lstinterrogati = []\n",
        "for x in range(15):\n",
        "  lstinterrogati.append(random.randint()\n",
        "print(lstinterrogati)"
      ],
      "metadata": {
        "id": "5U8Fj48YqHuu"
      },
      "execution_count": null,
      "outputs": []
    },
    {
      "cell_type": "markdown",
      "source": [
        "6.aggiungere alla coda dell'elenco Antonio grieco e visualizzare l'elenco in ordine alfabetico"
      ],
      "metadata": {
        "id": "-DQrM9oXlEyV"
      }
    },
    {
      "cell_type": "code",
      "source": [
        "Cognomi.append(\"Antonio Grieco\")\n",
        "print(Cognomi)\n",
        "Cognomi.sort()\n",
        "print(Cognomi)"
      ],
      "metadata": {
        "colab": {
          "base_uri": "https://localhost:8080/"
        },
        "id": "xStr4cTtlOYk",
        "outputId": "aa236ed4-a43b-46c1-8cf5-11c3304e6169"
      },
      "execution_count": null,
      "outputs": [
        {
          "output_type": "stream",
          "name": "stdout",
          "text": [
            "['Avasiloae', 'Bernasconi', 'Cottone', 'Darienzo', 'Diapce', 'Finessi', 'Fontana', 'Geremicca', 'El allami', 'Leone', 'Lotorto', 'Papes', 'Neri', 'Muammad', 'Poliseno', 'Antonio Grieco']\n",
            "['Antonio Grieco', 'Avasiloae', 'Bernasconi', 'Cottone', 'Darienzo', 'Diapce', 'El allami', 'Finessi', 'Fontana', 'Geremicca', 'Leone', 'Lotorto', 'Muammad', 'Neri', 'Papes', 'Poliseno']\n"
          ]
        }
      ]
    },
    {
      "cell_type": "markdown",
      "source": [
        "Esercizio 2"
      ],
      "metadata": {
        "id": "e0JykugCd9N4"
      }
    },
    {
      "cell_type": "markdown",
      "source": [
        "1.caricare una lista con 100 numeri casuali interi compresi tra 0 e 30 (estremi inclusi)"
      ],
      "metadata": {
        "id": "sFLhvKeOd_PO"
      }
    },
    {
      "cell_type": "code",
      "source": [
        "import random \n",
        "lstrandom = [random.randint(0,31) for num in range(100)]\n",
        "print(lstrandom)"
      ],
      "metadata": {
        "colab": {
          "base_uri": "https://localhost:8080/"
        },
        "id": "w6cDIqPFeHL_",
        "outputId": "2e0ebcca-a79b-4093-fe62-c66f773178a1"
      },
      "execution_count": null,
      "outputs": [
        {
          "output_type": "stream",
          "name": "stdout",
          "text": [
            "[14, 5, 14, 28, 16, 6, 13, 18, 7, 27, 2, 16, 23, 2, 5, 23, 2, 9, 24, 8, 2, 2, 27, 27, 13, 1, 30, 25, 19, 30, 0, 30, 31, 23, 15, 26, 7, 29, 29, 2, 16, 13, 7, 4, 14, 4, 22, 1, 17, 23, 20, 8, 0, 19, 15, 4, 14, 18, 24, 12, 31, 9, 19, 20, 11, 7, 23, 23, 1, 11, 19, 24, 20, 7, 12, 22, 1, 13, 20, 18, 26, 11, 12, 31, 23, 9, 1, 29, 31, 21, 12, 7, 9, 5, 14, 3, 2, 21, 16, 8]\n"
          ]
        }
      ]
    },
    {
      "cell_type": "markdown",
      "source": [
        "2.caricare in una nuova lista solo i numeri dispari"
      ],
      "metadata": {
        "id": "k_M4HByieoyE"
      }
    },
    {
      "cell_type": "code",
      "source": [
        "lstdispari = []\n",
        "for num in range(100):\n",
        "  if lstrandom[num] % 2 == 1:\n",
        "    lstdispari.append(lstrandom[num])\n",
        "print(lstdispari)"
      ],
      "metadata": {
        "colab": {
          "base_uri": "https://localhost:8080/"
        },
        "id": "p-FZU7f_etP0",
        "outputId": "c690234c-536f-451f-aaa4-d18539ce1746"
      },
      "execution_count": null,
      "outputs": [
        {
          "output_type": "stream",
          "name": "stdout",
          "text": [
            "[5, 13, 7, 27, 23, 5, 23, 9, 27, 27, 13, 1, 25, 19, 31, 23, 15, 7, 29, 29, 13, 7, 1, 17, 23, 19, 15, 31, 9, 19, 11, 7, 23, 23, 1, 11, 19, 7, 1, 13, 11, 31, 23, 9, 1, 29, 31, 21, 7, 9, 5, 3, 21]\n"
          ]
        }
      ]
    },
    {
      "cell_type": "markdown",
      "source": [
        "eliminare dalla seconda lista i multipli di 3"
      ],
      "metadata": {
        "id": "MpG3zr3qmPYW"
      }
    },
    {
      "cell_type": "code",
      "source": [
        "indice = 0\n",
        "for indice in range(len(lstdispari)):\n",
        "    if lstdispari[indice] % 3 == 0:\n",
        "      del lstdispari[indice]\n",
        "    else:\n",
        "     indice += 1 \n",
        "print(lstdispari)"
      ],
      "metadata": {
        "id": "qqwny6Y-mTjG"
      },
      "execution_count": null,
      "outputs": []
    },
    {
      "cell_type": "markdown",
      "source": [
        "4.caricare in una nuova lista tutti i numeri maggiori di 10 e minore di 20"
      ],
      "metadata": {
        "id": "hphMkJY7gm3c"
      }
    },
    {
      "cell_type": "code",
      "source": [
        "lstnumcompresi = []\n",
        "for num in range(100):\n",
        "  if lstrandom[num] > 10 and lstrandom[num] < 20:\n",
        "    lstnumcompresi.append(lstrandom[num])\n",
        "print(lstnumcompresi)"
      ],
      "metadata": {
        "colab": {
          "base_uri": "https://localhost:8080/"
        },
        "id": "ZjsMuvQVg7hW",
        "outputId": "08d11f77-def7-4f7c-ed08-7267410e49ec"
      },
      "execution_count": null,
      "outputs": [
        {
          "output_type": "stream",
          "name": "stdout",
          "text": [
            "[14, 14, 16, 13, 18, 16, 13, 19, 15, 16, 13, 14, 17, 19, 15, 14, 18, 12, 19, 11, 11, 19, 12, 13, 18, 11, 12, 12, 14, 16]\n"
          ]
        }
      ]
    },
    {
      "cell_type": "markdown",
      "source": [
        "5.moltiplicare per 10 tutti i numeri della lista precedente "
      ],
      "metadata": {
        "id": "tPhKwEkrhg0t"
      }
    },
    {
      "cell_type": "code",
      "source": [
        "lstmolt = []\n",
        "for x in range(len(lstnumcompresi)):\n",
        "  lstnumcompresi[x] *= 10\n",
        "  lstmolt.append(lstnumcompresi[x])\n",
        "print(lstnumcompresi)"
      ],
      "metadata": {
        "colab": {
          "base_uri": "https://localhost:8080/"
        },
        "id": "JSH3sgvOhmS8",
        "outputId": "336f1757-aa2e-4df4-d962-8eea7234cd2d"
      },
      "execution_count": null,
      "outputs": [
        {
          "output_type": "stream",
          "name": "stdout",
          "text": [
            "[140, 140, 160, 130, 180, 160, 130, 190, 150, 160, 130, 140, 170, 190, 150, 140, 180, 120, 190, 110, 110, 190, 120, 130, 180, 110, 120, 120, 140, 160]\n"
          ]
        }
      ]
    },
    {
      "cell_type": "markdown",
      "source": [
        "6.mettere in un unica lista tutti i valori presenti nelle liste precedenti "
      ],
      "metadata": {
        "id": "7_0UM82BpCnt"
      }
    },
    {
      "cell_type": "code",
      "source": [
        "print(lstrandom, lstdispari, lstnumcompresi,  )"
      ],
      "metadata": {
        "colab": {
          "base_uri": "https://localhost:8080/"
        },
        "id": "0ZtvUM04pJrm",
        "outputId": "82d92d1f-c0d7-47ff-95f6-912e8aba8270"
      },
      "execution_count": null,
      "outputs": [
        {
          "output_type": "stream",
          "name": "stdout",
          "text": [
            "[20, 23, 4, 6, 24, 26, 12, 24, 2, 29, 3, 9, 17, 15, 20, 17, 3, 15, 19, 22, 1, 20, 19, 3, 12, 1, 20, 3, 31, 19, 7, 0, 24, 10, 3, 29, 21, 22, 0, 30, 17, 6, 7, 30, 28, 6, 15, 30, 26, 1, 16, 14, 28, 0, 31, 21, 29, 7, 27, 13, 8, 30, 9, 29, 20, 18, 28, 29, 20, 22, 28, 9, 7, 29, 8, 28, 26, 13, 20, 10, 7, 23, 2, 19, 21, 22, 22, 21, 8, 26, 20, 2, 23, 28, 13, 23, 8, 27, 12, 19] [23, 29, 3, 9, 17, 15, 17, 3, 15, 19, 1, 19, 3, 1, 3, 31, 19, 7, 3, 29, 21, 17, 7, 15, 1, 31, 21, 29, 7, 27, 13, 9, 29, 29, 9, 7, 29, 13, 7, 23, 19, 21, 21, 23, 13, 23, 27, 19] [120, 170, 150, 170, 150, 190, 190, 120, 190, 170, 150, 160, 140, 130, 180, 130, 190, 130, 120, 190]\n"
          ]
        }
      ]
    }
  ]
}